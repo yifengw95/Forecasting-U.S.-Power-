{
 "cells": [
  {
   "cell_type": "code",
   "execution_count": 55,
   "metadata": {},
   "outputs": [],
   "source": [
    "import pandas as pd \n",
    "import numpy as np \n",
    "import matplotlib.pyplot as plt \n",
    "from sklearn.metrics import mean_squared_error\n",
    "from sklearn.metrics import mean_absolute_error\n",
    "from math import sqrt\n",
    "\n",
    "def mean_absolute_percentage_error(y_true, y_pred): \n",
    "     return np.mean(np.abs((y_true - y_pred) / y_true)) * 100\n",
    "    \n",
    "History_Data = pd.read_excel('Competition data.xlsx', sheet_name= 'History Data')\n",
    "\n",
    "History_Data = History_Data.dropna()\n",
    "History_Data['Accumulated Day'] = 0\n",
    "\n",
    "temp_day = 0\n",
    "def fill_in_DayinWeek (x):\n",
    "    global temp_day\n",
    "    if x['Hour'] == 1:\n",
    "        temp_day = temp_day + 1\n",
    "    return temp_day\n",
    "History_Data['Accumulated Day'] = History_Data.apply(fill_in_DayinWeek, axis = 1)\n",
    "History_Data['Day in Week'] = History_Data['Accumulated Day'] % 7\n",
    "\n",
    "History_Data['AbsT'] = np.abs(History_Data['T'] - 74.0)"
   ]
  },
  {
   "cell_type": "code",
   "execution_count": null,
   "metadata": {},
   "outputs": [],
   "source": []
  },
  {
   "cell_type": "code",
   "execution_count": 57,
   "metadata": {},
   "outputs": [
    {
     "data": {
      "text/plain": [
       "333397.9618309002"
      ]
     },
     "execution_count": 57,
     "metadata": {},
     "output_type": "execute_result"
    }
   ],
   "source": [
    "History_Data['Load_kW'].mean()"
   ]
  },
  {
   "cell_type": "code",
   "execution_count": null,
   "metadata": {},
   "outputs": [],
   "source": []
  },
  {
   "cell_type": "code",
   "execution_count": 3,
   "metadata": {},
   "outputs": [
    {
     "name": "stderr",
     "output_type": "stream",
     "text": [
      "/Users/yifengwang/anaconda3/lib/python3.7/site-packages/pandas/core/indexing.py:362: SettingWithCopyWarning: \n",
      "A value is trying to be set on a copy of a slice from a DataFrame.\n",
      "Try using .loc[row_indexer,col_indexer] = value instead\n",
      "\n",
      "See the caveats in the documentation: http://pandas.pydata.org/pandas-docs/stable/indexing.html#indexing-view-versus-copy\n",
      "  self.obj[key] = _infer_fill_value(value)\n",
      "/Users/yifengwang/anaconda3/lib/python3.7/site-packages/pandas/core/indexing.py:543: SettingWithCopyWarning: \n",
      "A value is trying to be set on a copy of a slice from a DataFrame.\n",
      "Try using .loc[row_indexer,col_indexer] = value instead\n",
      "\n",
      "See the caveats in the documentation: http://pandas.pydata.org/pandas-docs/stable/indexing.html#indexing-view-versus-copy\n",
      "  self.obj[item] = s\n"
     ]
    },
    {
     "name": "stdout",
     "output_type": "stream",
     "text": [
      "CPU times: user 1min 9s, sys: 10.5 s, total: 1min 20s\n",
      "Wall time: 13.9 s\n"
     ]
    }
   ],
   "source": [
    "%%time\n",
    "\n",
    "for time_in_day in [0,2,4,6,8,10,12,14,16,18,20,22]:\n",
    "    for day_in_week in [0, 1, 2, 3, 4, 5, 6]:\n",
    "\n",
    "        tempDF_hour = History_Data.loc[History_Data['Hour'].isin([time_in_day+ 1,time_in_day+ 2]) ,:] \n",
    "        tempDF_hour_day = tempDF_hour.loc[tempDF_hour['Day in Week'].isin([day_in_week]),:]\n",
    "        \n",
    "        begin_time_in_day = time_in_day+ 1\n",
    "        end_time_in_day = time_in_day+ 2\n",
    "        \n",
    "        temp_name = 'Day' + '' + str(day_in_week) + 'inWeek_' + str(begin_time_in_day) + '-' + str(end_time_in_day)\n",
    "        tempDF_hour_day.loc[:,temp_name] = 1\n",
    "        History_Data = pd.merge(History_Data, tempDF_hour_day[[temp_name]], left_index= True, right_index= True,\\\n",
    "                                how='outer')\n",
    "        History_Data = History_Data.fillna(0)\n",
    "\n",
    "        temp_name2 = 'T*' + temp_name\n",
    "        History_Data[temp_name2] = History_Data[temp_name] *  History_Data['T']\n",
    "        \n",
    "        temp_name3 = 'AbsT*' + temp_name\n",
    "        History_Data[temp_name3] = History_Data[temp_name] *  History_Data['AbsT']"
   ]
  },
  {
   "cell_type": "code",
   "execution_count": 4,
   "metadata": {},
   "outputs": [],
   "source": [
    "train=History_Data.iloc[0:17520,:]\n",
    "test=History_Data.iloc[17520:26303,:]"
   ]
  },
  {
   "cell_type": "code",
   "execution_count": 5,
   "metadata": {},
   "outputs": [
    {
     "data": {
      "text/plain": [
       "(8783, 261)"
      ]
     },
     "execution_count": 5,
     "metadata": {},
     "output_type": "execute_result"
    }
   ],
   "source": [
    "test.shape"
   ]
  },
  {
   "cell_type": "code",
   "execution_count": null,
   "metadata": {},
   "outputs": [],
   "source": []
  },
  {
   "cell_type": "code",
   "execution_count": null,
   "metadata": {},
   "outputs": [],
   "source": []
  },
  {
   "cell_type": "code",
   "execution_count": 69,
   "metadata": {},
   "outputs": [
    {
     "name": "stdout",
     "output_type": "stream",
     "text": [
      "63400.787635746565\n",
      "14.27626738859263\n"
     ]
    }
   ],
   "source": [
    "from sklearn.linear_model import LinearRegression\n",
    "\n",
    "X_train = train.drop('Load_kW', axis = 1)\n",
    "y_train = train['Load_kW']\n",
    "X_test = test.drop('Load_kW', axis = 1)\n",
    "y_test = test['Load_kW']\n",
    "\n",
    "reg = LinearRegression().fit(X_train, y_train)\n",
    "\n",
    "y_predict = reg.predict(X_test)\n",
    "rms = sqrt(mean_squared_error(y_predict, y_test))\n",
    "print(rms)\n",
    "mape = mean_absolute_percentage_error(y_predict, y_test)\n",
    "print(mape)"
   ]
  },
  {
   "cell_type": "code",
   "execution_count": null,
   "metadata": {},
   "outputs": [],
   "source": []
  },
  {
   "cell_type": "code",
   "execution_count": 18,
   "metadata": {
    "scrolled": true
   },
   "outputs": [
    {
     "data": {
      "text/html": [
       "<div>\n",
       "<style scoped>\n",
       "    .dataframe tbody tr th:only-of-type {\n",
       "        vertical-align: middle;\n",
       "    }\n",
       "\n",
       "    .dataframe tbody tr th {\n",
       "        vertical-align: top;\n",
       "    }\n",
       "\n",
       "    .dataframe thead th {\n",
       "        text-align: right;\n",
       "    }\n",
       "</style>\n",
       "<table border=\"1\" class=\"dataframe\">\n",
       "  <thead>\n",
       "    <tr style=\"text-align: right;\">\n",
       "      <th></th>\n",
       "      <th>Year</th>\n",
       "      <th>Month</th>\n",
       "      <th>Day</th>\n",
       "      <th>Hour</th>\n",
       "      <th>T</th>\n",
       "      <th>Load_kW</th>\n",
       "      <th>Accumulated Day</th>\n",
       "      <th>Day in Week</th>\n",
       "      <th>AbsT</th>\n",
       "      <th>Day0inWeek_1-2</th>\n",
       "      <th>...</th>\n",
       "      <th>AbsT*Day3inWeek_23-24</th>\n",
       "      <th>Day4inWeek_23-24</th>\n",
       "      <th>T*Day4inWeek_23-24</th>\n",
       "      <th>AbsT*Day4inWeek_23-24</th>\n",
       "      <th>Day5inWeek_23-24</th>\n",
       "      <th>T*Day5inWeek_23-24</th>\n",
       "      <th>AbsT*Day5inWeek_23-24</th>\n",
       "      <th>Day6inWeek_23-24</th>\n",
       "      <th>T*Day6inWeek_23-24</th>\n",
       "      <th>AbsT*Day6inWeek_23-24</th>\n",
       "    </tr>\n",
       "  </thead>\n",
       "  <tbody>\n",
       "    <tr>\n",
       "      <th>17520</th>\n",
       "      <td>2004</td>\n",
       "      <td>1</td>\n",
       "      <td>1</td>\n",
       "      <td>1</td>\n",
       "      <td>46.0</td>\n",
       "      <td>251611.0</td>\n",
       "      <td>731</td>\n",
       "      <td>3</td>\n",
       "      <td>28.0</td>\n",
       "      <td>0.0</td>\n",
       "      <td>...</td>\n",
       "      <td>0.0</td>\n",
       "      <td>0.0</td>\n",
       "      <td>0.0</td>\n",
       "      <td>0.0</td>\n",
       "      <td>0.0</td>\n",
       "      <td>0.0</td>\n",
       "      <td>0.0</td>\n",
       "      <td>0.0</td>\n",
       "      <td>0.0</td>\n",
       "      <td>0.0</td>\n",
       "    </tr>\n",
       "    <tr>\n",
       "      <th>17521</th>\n",
       "      <td>2004</td>\n",
       "      <td>1</td>\n",
       "      <td>1</td>\n",
       "      <td>2</td>\n",
       "      <td>45.0</td>\n",
       "      <td>246499.0</td>\n",
       "      <td>731</td>\n",
       "      <td>3</td>\n",
       "      <td>29.0</td>\n",
       "      <td>0.0</td>\n",
       "      <td>...</td>\n",
       "      <td>0.0</td>\n",
       "      <td>0.0</td>\n",
       "      <td>0.0</td>\n",
       "      <td>0.0</td>\n",
       "      <td>0.0</td>\n",
       "      <td>0.0</td>\n",
       "      <td>0.0</td>\n",
       "      <td>0.0</td>\n",
       "      <td>0.0</td>\n",
       "      <td>0.0</td>\n",
       "    </tr>\n",
       "    <tr>\n",
       "      <th>17522</th>\n",
       "      <td>2004</td>\n",
       "      <td>1</td>\n",
       "      <td>1</td>\n",
       "      <td>3</td>\n",
       "      <td>43.0</td>\n",
       "      <td>239736.0</td>\n",
       "      <td>731</td>\n",
       "      <td>3</td>\n",
       "      <td>31.0</td>\n",
       "      <td>0.0</td>\n",
       "      <td>...</td>\n",
       "      <td>0.0</td>\n",
       "      <td>0.0</td>\n",
       "      <td>0.0</td>\n",
       "      <td>0.0</td>\n",
       "      <td>0.0</td>\n",
       "      <td>0.0</td>\n",
       "      <td>0.0</td>\n",
       "      <td>0.0</td>\n",
       "      <td>0.0</td>\n",
       "      <td>0.0</td>\n",
       "    </tr>\n",
       "  </tbody>\n",
       "</table>\n",
       "<p>3 rows × 261 columns</p>\n",
       "</div>"
      ],
      "text/plain": [
       "       Year  Month  Day  Hour     T   Load_kW  Accumulated Day  Day in Week  \\\n",
       "17520  2004      1    1     1  46.0  251611.0              731            3   \n",
       "17521  2004      1    1     2  45.0  246499.0              731            3   \n",
       "17522  2004      1    1     3  43.0  239736.0              731            3   \n",
       "\n",
       "       AbsT  Day0inWeek_1-2          ...            AbsT*Day3inWeek_23-24  \\\n",
       "17520  28.0             0.0          ...                              0.0   \n",
       "17521  29.0             0.0          ...                              0.0   \n",
       "17522  31.0             0.0          ...                              0.0   \n",
       "\n",
       "       Day4inWeek_23-24  T*Day4inWeek_23-24  AbsT*Day4inWeek_23-24  \\\n",
       "17520               0.0                 0.0                    0.0   \n",
       "17521               0.0                 0.0                    0.0   \n",
       "17522               0.0                 0.0                    0.0   \n",
       "\n",
       "       Day5inWeek_23-24  T*Day5inWeek_23-24  AbsT*Day5inWeek_23-24  \\\n",
       "17520               0.0                 0.0                    0.0   \n",
       "17521               0.0                 0.0                    0.0   \n",
       "17522               0.0                 0.0                    0.0   \n",
       "\n",
       "       Day6inWeek_23-24  T*Day6inWeek_23-24  AbsT*Day6inWeek_23-24  \n",
       "17520               0.0                 0.0                    0.0  \n",
       "17521               0.0                 0.0                    0.0  \n",
       "17522               0.0                 0.0                    0.0  \n",
       "\n",
       "[3 rows x 261 columns]"
      ]
     },
     "execution_count": 18,
     "metadata": {},
     "output_type": "execute_result"
    }
   ],
   "source": [
    "test.head(3)"
   ]
  },
  {
   "cell_type": "code",
   "execution_count": 19,
   "metadata": {
    "scrolled": true
   },
   "outputs": [
    {
     "data": {
      "text/html": [
       "<div>\n",
       "<style scoped>\n",
       "    .dataframe tbody tr th:only-of-type {\n",
       "        vertical-align: middle;\n",
       "    }\n",
       "\n",
       "    .dataframe tbody tr th {\n",
       "        vertical-align: top;\n",
       "    }\n",
       "\n",
       "    .dataframe thead th {\n",
       "        text-align: right;\n",
       "    }\n",
       "</style>\n",
       "<table border=\"1\" class=\"dataframe\">\n",
       "  <thead>\n",
       "    <tr style=\"text-align: right;\">\n",
       "      <th></th>\n",
       "      <th>Year</th>\n",
       "      <th>Month</th>\n",
       "      <th>Day</th>\n",
       "      <th>Hour</th>\n",
       "      <th>Load_kW</th>\n",
       "    </tr>\n",
       "  </thead>\n",
       "  <tbody>\n",
       "    <tr>\n",
       "      <th>17520</th>\n",
       "      <td>2003.0</td>\n",
       "      <td>1.0</td>\n",
       "      <td>1.0</td>\n",
       "      <td>1.0</td>\n",
       "      <td>205874.0</td>\n",
       "    </tr>\n",
       "    <tr>\n",
       "      <th>17521</th>\n",
       "      <td>2003.0</td>\n",
       "      <td>1.0</td>\n",
       "      <td>1.0</td>\n",
       "      <td>2.0</td>\n",
       "      <td>190513.0</td>\n",
       "    </tr>\n",
       "    <tr>\n",
       "      <th>17522</th>\n",
       "      <td>2003.0</td>\n",
       "      <td>1.0</td>\n",
       "      <td>1.0</td>\n",
       "      <td>3.0</td>\n",
       "      <td>176767.0</td>\n",
       "    </tr>\n",
       "  </tbody>\n",
       "</table>\n",
       "</div>"
      ],
      "text/plain": [
       "         Year  Month  Day  Hour   Load_kW\n",
       "17520  2003.0    1.0  1.0   1.0  205874.0\n",
       "17521  2003.0    1.0  1.0   2.0  190513.0\n",
       "17522  2003.0    1.0  1.0   3.0  176767.0"
      ]
     },
     "execution_count": 19,
     "metadata": {},
     "output_type": "execute_result"
    }
   ],
   "source": [
    "test2.head(3)"
   ]
  },
  {
   "cell_type": "code",
   "execution_count": 11,
   "metadata": {},
   "outputs": [],
   "source": [
    "History_Data_1year_after = History_Data.shift(365*24)\n",
    "History_Data_1year_after = History_Data_1year_after[['Year', 'Month','Day','Hour', 'Load_kW']]"
   ]
  },
  {
   "cell_type": "code",
   "execution_count": 13,
   "metadata": {
    "scrolled": true
   },
   "outputs": [],
   "source": [
    "test2 = History_Data_1year_after.iloc[17520:26303,:]"
   ]
  },
  {
   "cell_type": "code",
   "execution_count": null,
   "metadata": {},
   "outputs": [],
   "source": []
  },
  {
   "cell_type": "markdown",
   "metadata": {},
   "source": [
    "# Ensemble Model"
   ]
  },
  {
   "cell_type": "code",
   "execution_count": null,
   "metadata": {},
   "outputs": [],
   "source": []
  },
  {
   "cell_type": "code",
   "execution_count": 61,
   "metadata": {
    "scrolled": true
   },
   "outputs": [
    {
     "name": "stdout",
     "output_type": "stream",
     "text": [
      "RMSE 83807.96 MAPE 17.48\n",
      "RMSE 80840.17 MAPE 16.67\n",
      "RMSE 77987.94 MAPE 15.97\n",
      "RMSE 75264.39 MAPE 15.35\n",
      "RMSE 72683.99 MAPE 14.81\n",
      "RMSE 70262.51 MAPE 14.35\n",
      "RMSE 68016.94 MAPE 13.96\n",
      "RMSE 65965.23 MAPE 13.64\n",
      "RMSE 64126.0 MAPE 13.37\n",
      "RMSE 62518.01 MAPE 13.17\n",
      "RMSE 61159.49 MAPE 13.02\n",
      "RMSE 60067.38 MAPE 12.92\n",
      "RMSE 59256.41 MAPE 12.88\n",
      "RMSE 58738.21 MAPE 12.9\n",
      "RMSE 58520.58 MAPE 12.96\n",
      "RMSE 58606.86 MAPE 13.07\n",
      "RMSE 58995.71 MAPE 13.23\n",
      "RMSE 59681.22 MAPE 13.43\n",
      "RMSE 60653.34 MAPE 13.68\n",
      "RMSE 61898.56 MAPE 13.96\n"
     ]
    }
   ],
   "source": [
    "\n",
    "for alpha in list(np.arange(0, 1, 0.05)):\n",
    "   \n",
    "    y_ensemble = alpha * y_predict + (1 - alpha) * test2['Load_kW']\n",
    "    rms = sqrt(mean_squared_error(y_ensemble, y_test))\n",
    "    mape = mean_absolute_percentage_error(y_ensemble, y_test)\n",
    "    rms = round(rms, 2)\n",
    "    mape = round(mape, 2)\n",
    "    #print('alpha', alpha)\n",
    "    print( 'RMSE', rms, 'MAPE', mape)"
   ]
  },
  {
   "cell_type": "code",
   "execution_count": 49,
   "metadata": {},
   "outputs": [
    {
     "name": "stdout",
     "output_type": "stream",
     "text": [
      "alpha 0.6\n",
      "RMSE 59256.41 MAPE 12.88\n"
     ]
    }
   ],
   "source": [
    "\n",
    "for alpha in [0.6]:\n",
    "    y_ensemble = alpha * y_predict + (1 - alpha) * test2['Load_kW']\n",
    "    rms = sqrt(mean_squared_error(y_ensemble, y_test))\n",
    "    mape = mean_absolute_percentage_error(y_ensemble, y_test)\n",
    "    rms = round(rms, 2)\n",
    "    mape = round(mape, 2)\n",
    "    print('alpha', alpha)\n",
    "    print( 'RMSE', rms, 'MAPE', mape)"
   ]
  },
  {
   "cell_type": "code",
   "execution_count": 50,
   "metadata": {},
   "outputs": [
    {
     "name": "stderr",
     "output_type": "stream",
     "text": [
      "/Users/yifengwang/anaconda3/lib/python3.7/site-packages/ipykernel_launcher.py:2: SettingWithCopyWarning: \n",
      "A value is trying to be set on a copy of a slice from a DataFrame.\n",
      "Try using .loc[row_indexer,col_indexer] = value instead\n",
      "\n",
      "See the caveats in the documentation: http://pandas.pydata.org/pandas-docs/stable/indexing.html#indexing-view-versus-copy\n",
      "  \n"
     ]
    },
    {
     "data": {
      "image/png": "[encoded data removed]",
      "text/plain": [
       "<Figure size 1152x576 with 1 Axes>"
      ]
     },
     "metadata": {
      "needs_background": "light"
     },
     "output_type": "display_data"
    }
   ],
   "source": [
    "y_hat_avg = test[['Load_kW']]\n",
    "y_hat_avg['Predict'] = y_ensemble\n",
    "plt.figure(figsize=(16,8))\n",
    "\n",
    "y_hat_avg = y_hat_avg.dropna()\n",
    "\n",
    "plt.plot(train['Load_kW'], label='Train')\n",
    "plt.plot(y_hat_avg['Load_kW'], label='Test')\n",
    "#plt.plot(testActual['Load_kW'], label='Test Actual')\n",
    "plt.plot(y_hat_avg['Predict'], label='Predict')\n",
    "plt.legend(loc='best')\n",
    "plt.show()"
   ]
  },
  {
   "cell_type": "code",
   "execution_count": null,
   "metadata": {},
   "outputs": [],
   "source": []
  }
 ],
 "metadata": {
  "kernelspec": {
   "display_name": "Python 3",
   "language": "python",
   "name": "python3"
  },
  "language_info": {
   "codemirror_mode": {
    "name": "ipython",
    "version": 3
   },
   "file_extension": ".py",
   "mimetype": "text/x-python",
   "name": "python",
   "nbconvert_exporter": "python",
   "pygments_lexer": "ipython3",
   "version": "3.7.1"
  }
 },
 "nbformat": 4,
 "nbformat_minor": 2
}
